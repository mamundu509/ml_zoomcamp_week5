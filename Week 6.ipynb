{
 "cells": [
  {
   "cell_type": "markdown",
   "id": "f1668c56",
   "metadata": {},
   "source": [
    "### Data Preparation\n",
    "In this homework, we will use the California Housing Prices from Kaggle.\n",
    "Here's a wget-able link:\n",
    "wget https://raw.githubusercontent.com/alexeygrigorev/datasets/master/housing.csv\n",
    "The goal of this homework is to create a regression model for predicting housing prices (column 'median_house_value').\n",
    "\n",
    "Preparing the dataset\n",
    "For this homework, we only want to use a subset of data. This is the same subset we used in homework #2. But in contrast to homework #2, we are going to use all columns of the dataset.\n",
    "\n",
    "First, keep only the records where ocean_proximity is either '<1H OCEAN' or 'INLAND'\n",
    "\n",
    "Preparation:\n",
    "\n",
    "* Fill missing values with zeros.\n",
    "* Apply the log transform to median_house_value.\n",
    "* Do train/validation/test split with 60%/20%/20% distribution.\n",
    "* Use the train_test_split function and set the random_state parameter to 1.\n",
    "* Use DictVectorizer(sparse=True) to turn the dataframes into matrices."
   ]
  },
  {
   "cell_type": "code",
   "execution_count": 26,
   "id": "345d861b",
   "metadata": {},
   "outputs": [],
   "source": [
    "import pandas as pd\n",
    "import numpy as np\n",
    "from sklearn.model_selection import train_test_split # for train test split\n",
    "from sklearn.feature_extraction import DictVectorizer # for one-hot encoding\n",
    "from sklearn.tree import DecisionTreeRegressor # decision tree regressor (for q1)\n",
    "from sklearn.tree import export_text # text output of tree for q1\n",
    "from sklearn.ensemble import RandomForestRegressor # random forest regressor (for q2)\n",
    "from sklearn.metrics import mean_squared_error # for q2\n",
    "from tqdm.auto import tqdm # for q3\n",
    "import matplotlib.pyplot as plt # for q3\n",
    "# import xgboost as xgb # for q6\n",
    "#import matplotlib as mpl\n",
    "#import seaborn as sb\n",
    "import wget"
   ]
  },
  {
   "cell_type": "code",
   "execution_count": 27,
   "id": "2289b4aa",
   "metadata": {},
   "outputs": [
    {
     "name": "stderr",
     "output_type": "stream",
     "text": [
      "'wgethttps:' is not recognized as an internal or external command,\n",
      "operable program or batch file.\n"
     ]
    }
   ],
   "source": [
    "url='https://raw.githubusercontent.com/alexeygrigorev/datasets/master/housing.csv'\n",
    "!wget$url"
   ]
  },
  {
   "cell_type": "code",
   "execution_count": 28,
   "id": "924dcb51",
   "metadata": {},
   "outputs": [
    {
     "name": "stderr",
     "output_type": "stream",
     "text": [
      "'head' is not recognized as an internal or external command,\n",
      "operable program or batch file.\n"
     ]
    }
   ],
   "source": [
    "!head housing.csv"
   ]
  },
  {
   "cell_type": "code",
   "execution_count": 29,
   "id": "acdfb890",
   "metadata": {},
   "outputs": [
    {
     "data": {
      "text/html": [
       "<div>\n",
       "<style scoped>\n",
       "    .dataframe tbody tr th:only-of-type {\n",
       "        vertical-align: middle;\n",
       "    }\n",
       "\n",
       "    .dataframe tbody tr th {\n",
       "        vertical-align: top;\n",
       "    }\n",
       "\n",
       "    .dataframe thead th {\n",
       "        text-align: right;\n",
       "    }\n",
       "</style>\n",
       "<table border=\"1\" class=\"dataframe\">\n",
       "  <thead>\n",
       "    <tr style=\"text-align: right;\">\n",
       "      <th></th>\n",
       "      <th>longitude</th>\n",
       "      <th>latitude</th>\n",
       "      <th>housing_median_age</th>\n",
       "      <th>total_rooms</th>\n",
       "      <th>total_bedrooms</th>\n",
       "      <th>population</th>\n",
       "      <th>households</th>\n",
       "      <th>median_income</th>\n",
       "      <th>median_house_value</th>\n",
       "      <th>ocean_proximity</th>\n",
       "    </tr>\n",
       "  </thead>\n",
       "  <tbody>\n",
       "    <tr>\n",
       "      <th>0</th>\n",
       "      <td>-122.23</td>\n",
       "      <td>37.88</td>\n",
       "      <td>41.0</td>\n",
       "      <td>880.0</td>\n",
       "      <td>129.0</td>\n",
       "      <td>322.0</td>\n",
       "      <td>126.0</td>\n",
       "      <td>8.3252</td>\n",
       "      <td>452600.0</td>\n",
       "      <td>NEAR BAY</td>\n",
       "    </tr>\n",
       "    <tr>\n",
       "      <th>1</th>\n",
       "      <td>-122.22</td>\n",
       "      <td>37.86</td>\n",
       "      <td>21.0</td>\n",
       "      <td>7099.0</td>\n",
       "      <td>1106.0</td>\n",
       "      <td>2401.0</td>\n",
       "      <td>1138.0</td>\n",
       "      <td>8.3014</td>\n",
       "      <td>358500.0</td>\n",
       "      <td>NEAR BAY</td>\n",
       "    </tr>\n",
       "    <tr>\n",
       "      <th>2</th>\n",
       "      <td>-122.24</td>\n",
       "      <td>37.85</td>\n",
       "      <td>52.0</td>\n",
       "      <td>1467.0</td>\n",
       "      <td>190.0</td>\n",
       "      <td>496.0</td>\n",
       "      <td>177.0</td>\n",
       "      <td>7.2574</td>\n",
       "      <td>352100.0</td>\n",
       "      <td>NEAR BAY</td>\n",
       "    </tr>\n",
       "    <tr>\n",
       "      <th>3</th>\n",
       "      <td>-122.25</td>\n",
       "      <td>37.85</td>\n",
       "      <td>52.0</td>\n",
       "      <td>1274.0</td>\n",
       "      <td>235.0</td>\n",
       "      <td>558.0</td>\n",
       "      <td>219.0</td>\n",
       "      <td>5.6431</td>\n",
       "      <td>341300.0</td>\n",
       "      <td>NEAR BAY</td>\n",
       "    </tr>\n",
       "    <tr>\n",
       "      <th>4</th>\n",
       "      <td>-122.25</td>\n",
       "      <td>37.85</td>\n",
       "      <td>52.0</td>\n",
       "      <td>1627.0</td>\n",
       "      <td>280.0</td>\n",
       "      <td>565.0</td>\n",
       "      <td>259.0</td>\n",
       "      <td>3.8462</td>\n",
       "      <td>342200.0</td>\n",
       "      <td>NEAR BAY</td>\n",
       "    </tr>\n",
       "  </tbody>\n",
       "</table>\n",
       "</div>"
      ],
      "text/plain": [
       "   longitude  latitude  housing_median_age  total_rooms  total_bedrooms  \\\n",
       "0    -122.23     37.88                41.0        880.0           129.0   \n",
       "1    -122.22     37.86                21.0       7099.0          1106.0   \n",
       "2    -122.24     37.85                52.0       1467.0           190.0   \n",
       "3    -122.25     37.85                52.0       1274.0           235.0   \n",
       "4    -122.25     37.85                52.0       1627.0           280.0   \n",
       "\n",
       "   population  households  median_income  median_house_value ocean_proximity  \n",
       "0       322.0       126.0         8.3252            452600.0        NEAR BAY  \n",
       "1      2401.0      1138.0         8.3014            358500.0        NEAR BAY  \n",
       "2       496.0       177.0         7.2574            352100.0        NEAR BAY  \n",
       "3       558.0       219.0         5.6431            341300.0        NEAR BAY  \n",
       "4       565.0       259.0         3.8462            342200.0        NEAR BAY  "
      ]
     },
     "execution_count": 29,
     "metadata": {},
     "output_type": "execute_result"
    }
   ],
   "source": [
    "df=pd.read_csv(url)\n",
    "df.head()"
   ]
  },
  {
   "cell_type": "code",
   "execution_count": 30,
   "id": "4489d258",
   "metadata": {},
   "outputs": [],
   "source": [
    "# Keep only  '<1H OCEAN' and 'INLAND' from ocean_proximity\n",
    "df = df[df['ocean_proximity'].isin(['<1H OCEAN', 'INLAND'])]\n",
    "\n",
    "# Fill missing values\n",
    "#print('Missing values\\n',df.isnull().sum()[4:5])\n",
    "df.fillna(0, inplace = True) \n",
    "\n",
    "# Log transform to median_house_value\n",
    "df['median_house_value'] = df['median_house_value'].agg(np.log1p)\n",
    "\n",
    "# Train/Validation/Test split\n",
    "df_train_large, df_test = train_test_split(df, test_size = 0.2, random_state = 1)\n",
    "df_train, df_val = train_test_split(df_train_large, train_size = 0.75, random_state = 1)\n",
    "\n",
    "Y_train_large = df_train_large['median_house_value'].values\n",
    "Y_test = df_test['median_house_value'].values\n",
    "Y_train = df_train['median_house_value'].values\n",
    "Y_val = df_val['median_house_value'].values\n",
    "\n",
    "# Drop target variable from train, validation and test sets\n",
    "df_train_large.drop('median_house_value', axis=1, inplace=True)\n",
    "df_train.drop('median_house_value', axis=1, inplace=True)\n",
    "df_val.drop('median_house_value', axis=1, inplace=True)\n",
    "df_test.drop('median_house_value', axis=1, inplace=True)\n",
    "# Convert DataFrames to dictionary records\n",
    "train_dict = df_train.to_dict(orient='records')\n",
    "train_large_dict = df_train_large.to_dict(orient='records')\n",
    "val_dict = df_val.to_dict(orient='records')\n",
    "test_dict = df_test.to_dict(orient='records')\n",
    "\n",
    "dv = DictVectorizer(sparse=False)\n",
    "\n",
    "# Fit and transform\n",
    "X_train = dv.fit_transform(train_dict)\n",
    "X_train_large = dv.transform(train_large_dict)\n",
    "X_val = dv.transform(val_dict)\n",
    "X_test = dv.transform(test_dict)"
   ]
  },
  {
   "cell_type": "code",
   "execution_count": 36,
   "id": "055cd6b9",
   "metadata": {},
   "outputs": [
    {
     "name": "stdout",
     "output_type": "stream",
     "text": [
      "(9411, 10)\n",
      "(12549, 10)\n",
      "(3138, 10)\n",
      "(3138, 10)\n",
      "(9411,)\n"
     ]
    }
   ],
   "source": [
    "print(X_train.shape)\n",
    "print(X_val.shape)\n",
    "print(X_test.shape)\n",
    "print(Y_train.shape)"
   ]
  },
  {
   "cell_type": "markdown",
   "id": "24ea9ee7",
   "metadata": {},
   "source": [
    "### Question - 1\n",
    "Let's train a decision tree regressor to predict the median_house_value variable.\n",
    "* Train a model with max_depth=1.\n",
    "\n",
    "Which feature is used for splitting the data?\n",
    "* ocean_proximity\n",
    "* total_rooms\n",
    "* latitude\n",
    "* population"
   ]
  },
  {
   "cell_type": "code",
   "execution_count": 32,
   "id": "54a490f2",
   "metadata": {},
   "outputs": [
    {
     "name": "stdout",
     "output_type": "stream",
     "text": [
      "|--- ocean_proximity=<1H OCEAN <= 0.50\n",
      "|   |--- value: [11.61]\n",
      "|--- ocean_proximity=<1H OCEAN >  0.50\n",
      "|   |--- value: [12.30]\n",
      "\n"
     ]
    }
   ],
   "source": [
    "# Question 1\n",
    "\n",
    "# Let's train a decision tree regressor to predict the median_house_value variable.\n",
    "regressor = DecisionTreeRegressor(max_depth = 1)\n",
    "# Train a model with max_depth=1.\n",
    "regressor.fit(X_train, \n",
    "              Y_train)\n",
    "\n",
    "#print(export_text(regressor))\n",
    "print(export_text(regressor, feature_names=dv.get_feature_names_out().tolist()))"
   ]
  },
  {
   "cell_type": "markdown",
   "id": "799992be",
   "metadata": {},
   "source": [
    "### Question-2\n",
    "Train a random forest model with these parameters:\n",
    "* n_estimators=10\n",
    "* random_state=1\n",
    "* n_jobs=-1 (optional - to make training faster)\n",
    "1. What's the RMSE of this model on validation?\n",
    "* 0.045\n",
    "* 0.245\n",
    "* 0.545\n",
    "* 0.845"
   ]
  },
  {
   "cell_type": "code",
   "execution_count": 35,
   "id": "84dd7107",
   "metadata": {},
   "outputs": [
    {
     "name": "stdout",
     "output_type": "stream",
     "text": [
      "Root Mean Squared 0.24459962783255346\n"
     ]
    }
   ],
   "source": [
    "from sklearn.ensemble import RandomForestRegressor\n",
    "from sklearn.metrics import mean_squared_error\n",
    "\n",
    "\n",
    "rf_regressor=RandomForestRegressor(n_estimators=10,random_state=1,n_jobs=-1)\n",
    "rf_regressor.fit(X_train,Y_train)\n",
    "y_pred=rf_regressor.predict(X_val)\n",
    "rmse=mean_squared_error(Y_val,y_pred,squared=False)\n",
    "print(\"Root Mean Squared\",rmse)"
   ]
  },
  {
   "cell_type": "markdown",
   "id": "ae4a2e6d",
   "metadata": {},
   "source": [
    "### Question 3\n",
    "* Now let's experiment with the n_estimators parameter\n",
    "* Try different values of this parameter from 10 to 200 with step 10.\n",
    "* Set random_state to 1.\n",
    "* Evaluate the model on the validation dataset.\n",
    "1. After which value of n_estimators does RMSE stop improving? Consider 3 decimal places for retrieving the answer.\n",
    "\n",
    "* 10\n",
    "* 25\n",
    "* 50\n",
    "* 160"
   ]
  },
  {
   "cell_type": "code",
   "execution_count": 38,
   "id": "abd1451c",
   "metadata": {},
   "outputs": [
    {
     "data": {
      "image/png": "[encoded data removed]",
      "text/plain": [
       "<Figure size 600x400 with 1 Axes>"
      ]
     },
     "metadata": {},
     "output_type": "display_data"
    }
   ],
   "source": [
    "from sklearn.ensemble import RandomForestRegressor\n",
    "from sklearn.metrics import mean_squared_error\n",
    "import pandas as pd\n",
    "\n",
    "scores = []\n",
    "# Define a range of n_estimators values to experiment with\n",
    "n_estimators_range = range(10, 201, 10)\n",
    "\n",
    "# Create a Random Forest Regressor with random_state=1\n",
    "rf_regressor = RandomForestRegressor(random_state=1)\n",
    "\n",
    "# Loop through different values of n_estimators\n",
    "for n_estimators in n_estimators_range:\n",
    "    # Create a new Random Forest Regressor with the current n_estimators value\n",
    "    rf_regressor = RandomForestRegressor(n_estimators=n_estimators, random_state=1)\n",
    "    \n",
    "    # Train the model on the training data\n",
    "    rf_regressor.fit(X_train, Y_train)\n",
    "    \n",
    "    # Make predictions on the validation data\n",
    "    Y_pred = rf_regressor.predict(X_val)\n",
    "    \n",
    "    # Calculate RMSE on the validation data\n",
    "    rmse = mean_squared_error(Y_val, Y_pred, squared=False)\n",
    "    scores.append(rmse)\n",
    "\n",
    "plt.figure(figsize=(6, 4))\n",
    "\n",
    "plt.plot(n_estimators_range, scores, label='RMSE', marker='o', color = 'blue')\n",
    "# lines\n",
    "plt.axvline(x=50, color='red', linestyle='--')\n",
    "plt.axhline(y=scores[4], color='red', linestyle='--')\n",
    "\n",
    "plt.title('Number of Trees vs RMSE')\n",
    "plt.xlabel('Number of Trees')\n",
    "plt.ylabel('RMSE')\n",
    "plt.legend()\n",
    "plt.show()\n",
    "    \n"
   ]
  },
  {
   "cell_type": "markdown",
   "id": "da6fc0f6",
   "metadata": {},
   "source": [
    "### Question 4\n",
    "Let's select the best max_depth:\n",
    "* Try different values of max_depth: [10, 15, 20, 25]\n",
    "* For each of these values,\n",
    "* try different values of n_estimators from 10 till 200 (with step 10)\n",
    "* calculate the mean RMSE\n",
    "* Fix the random seed: random_state=1\n",
    "1. What's the best max_depth, using the mean RMSE?\n",
    "* 10\n",
    "* 15\n",
    "* 20\n",
    "* 25"
   ]
  },
  {
   "cell_type": "code",
   "execution_count": 49,
   "id": "456c61c2",
   "metadata": {},
   "outputs": [
    {
     "data": {
      "image/png": "[encoded data removed]",
      "text/plain": [
       "<Figure size 1000x600 with 1 Axes>"
      ]
     },
     "metadata": {},
     "output_type": "display_data"
    }
   ],
   "source": [
    "from sklearn.ensemble import RandomForestRegressor\n",
    "from sklearn.metrics import mean_squared_error\n",
    "import pandas as pd\n",
    "import matplotlib.pyplot as plt\n",
    "from sklearn.ensemble import RandomForestRegressor\n",
    "from sklearn.metrics import mean_squared_error\n",
    "import numpy as np\n",
    "\n",
    "# Define a range of n_estimators values to experiment with\n",
    "n_estimators_range = range(10, 201, 10)\n",
    "\n",
    "# Create a dictionary to store RMSE scores for different depths\n",
    "depth_dict = {}\n",
    "\n",
    "# Define the depths to explore\n",
    "depths = [10, 15, 20, 25]\n",
    "\n",
    "# Loop through different values of max_depth\n",
    "for depth in depths:\n",
    "    scores = []  # Initialize a list to store RMSE scores for the current depth\n",
    "    for n_estimators in n_estimators_range:\n",
    "        # Create a new Random Forest Regressor with the current max_depth and n_estimators values\n",
    "        rf_regressor = RandomForestRegressor(max_depth=depth, n_estimators=n_estimators, random_state=1)\n",
    "    \n",
    "        # Train the model on the training data\n",
    "        rf_regressor.fit(X_train, Y_train)\n",
    "    \n",
    "        # Make predictions on the validation data\n",
    "        Y_pred = rf_regressor.predict(X_val)\n",
    "    \n",
    "        # Calculate RMSE on the validation data\n",
    "        rmse = mean_squared_error(Y_val, Y_pred, squared=False)\n",
    "        scores.append(rmse)\n",
    "    \n",
    "    depth_dict[depth] = scores\n",
    "\n",
    "# Plot the results\n",
    "plt.figure(figsize=(10, 6))\n",
    "for depth, scores in depth_dict.items():\n",
    "    plt.plot(n_estimators_range, scores, label='max_depth = ' + str(depth), marker='o')\n",
    "\n",
    "plt.legend()\n",
    "plt.title('Number of Trees vs RMSE')\n",
    "plt.xlabel('Number of Trees')\n",
    "plt.ylabel('RMSE')\n",
    "plt.show()"
   ]
  },
  {
   "cell_type": "markdown",
   "id": "67080b8e",
   "metadata": {},
   "source": [
    "### Question 5\n",
    "* We can extract feature importance information from tree-based models.\n",
    "* At each step of the decision tree learning algorithm, it finds the best split. When doing it, \n",
    "* we can calculate \"gain\" - the reduction in impurity before and after the split. \n",
    "* This gain is quite useful in understanding what are the important features for tree-based models.\n",
    "* In Scikit-Learn, tree-based models contain this information in the feature_importances_ field.\n",
    "\n",
    "For this homework question, we'll find the most important feature:\n",
    "\n",
    "* Train the model with these parameters:\n",
    "n_estimators=10,\n",
    "max_depth=20,\n",
    "random_state=1,\n",
    "n_jobs=-1 (optional)\n",
    "* Get the feature importance information from this model\n",
    "\n",
    "What's the most important feature (among these 4)?\n",
    "* total_rooms\n",
    "* median_income\n",
    "* total_bedrooms\n",
    "* longitude"
   ]
  },
  {
   "cell_type": "code",
   "execution_count": 50,
   "id": "e4d3ab83",
   "metadata": {},
   "outputs": [
    {
     "data": {
      "text/html": [
       "<div>\n",
       "<style scoped>\n",
       "    .dataframe tbody tr th:only-of-type {\n",
       "        vertical-align: middle;\n",
       "    }\n",
       "\n",
       "    .dataframe tbody tr th {\n",
       "        vertical-align: top;\n",
       "    }\n",
       "\n",
       "    .dataframe thead th {\n",
       "        text-align: right;\n",
       "    }\n",
       "</style>\n",
       "<table border=\"1\" class=\"dataframe\">\n",
       "  <thead>\n",
       "    <tr style=\"text-align: right;\">\n",
       "      <th></th>\n",
       "      <th>feature</th>\n",
       "      <th>importance</th>\n",
       "    </tr>\n",
       "  </thead>\n",
       "  <tbody>\n",
       "    <tr>\n",
       "      <th>0</th>\n",
       "      <td>households</td>\n",
       "      <td>0.014868</td>\n",
       "    </tr>\n",
       "    <tr>\n",
       "      <th>8</th>\n",
       "      <td>total_bedrooms</td>\n",
       "      <td>0.015614</td>\n",
       "    </tr>\n",
       "    <tr>\n",
       "      <th>9</th>\n",
       "      <td>total_rooms</td>\n",
       "      <td>0.021405</td>\n",
       "    </tr>\n",
       "    <tr>\n",
       "      <th>7</th>\n",
       "      <td>population</td>\n",
       "      <td>0.027904</td>\n",
       "    </tr>\n",
       "    <tr>\n",
       "      <th>1</th>\n",
       "      <td>housing_median_age</td>\n",
       "      <td>0.030304</td>\n",
       "    </tr>\n",
       "    <tr>\n",
       "      <th>3</th>\n",
       "      <td>longitude</td>\n",
       "      <td>0.086235</td>\n",
       "    </tr>\n",
       "    <tr>\n",
       "      <th>2</th>\n",
       "      <td>latitude</td>\n",
       "      <td>0.102663</td>\n",
       "    </tr>\n",
       "    <tr>\n",
       "      <th>6</th>\n",
       "      <td>ocean_proximity=INLAND</td>\n",
       "      <td>0.167092</td>\n",
       "    </tr>\n",
       "    <tr>\n",
       "      <th>5</th>\n",
       "      <td>ocean_proximity=&lt;1H OCEAN</td>\n",
       "      <td>0.198927</td>\n",
       "    </tr>\n",
       "    <tr>\n",
       "      <th>4</th>\n",
       "      <td>median_income</td>\n",
       "      <td>0.334988</td>\n",
       "    </tr>\n",
       "  </tbody>\n",
       "</table>\n",
       "</div>"
      ],
      "text/plain": [
       "                     feature  importance\n",
       "0                 households    0.014868\n",
       "8             total_bedrooms    0.015614\n",
       "9                total_rooms    0.021405\n",
       "7                 population    0.027904\n",
       "1         housing_median_age    0.030304\n",
       "3                  longitude    0.086235\n",
       "2                   latitude    0.102663\n",
       "6     ocean_proximity=INLAND    0.167092\n",
       "5  ocean_proximity=<1H OCEAN    0.198927\n",
       "4              median_income    0.334988"
      ]
     },
     "metadata": {},
     "output_type": "display_data"
    }
   ],
   "source": [
    "rf = RandomForestRegressor(n_estimators = 11, max_depth = 20, random_state =1,  n_jobs=-1)\n",
    "rf.fit(X_train, Y_train)\n",
    "\n",
    "feature_importance = rf.feature_importances_\n",
    "feature_names=dv.feature_names_\n",
    "\n",
    "most_important_features = pd.DataFrame({'feature': feature_names, 'importance': feature_importance} )\\\n",
    "                            .sort_values(by='importance', ascending= True)\n",
    "display(most_important_features)"
   ]
  },
  {
   "cell_type": "markdown",
   "id": "829ec821",
   "metadata": {},
   "source": [
    "### Question 6\n",
    "Now let's train an XGBoost model! For this question, we'll tune the eta parameter:\n",
    "Install XGBoost\n",
    "* Create DMatrix for train and validation\n",
    "* Create a watchlist\n",
    "* Train a model with these parameters for 100 rounds:\n",
    "xgb_params = {\n",
    "    'eta': 0.3, \n",
    "    'max_depth': 6,\n",
    "    'min_child_weight': 1,\n",
    "    \n",
    "    'objective': 'reg:squarederror',\n",
    "    'nthread': 8,\n",
    "    \n",
    "    'seed': 1,\n",
    "    'verbosity': 1,\n",
    "}\n",
    "\n",
    "Now change eta from 0.3 to 0.1.\n",
    "\n",
    "* Which eta leads to the best RMSE score on the validation dataset?"
   ]
  },
  {
   "cell_type": "code",
   "execution_count": 55,
   "id": "e2415065",
   "metadata": {},
   "outputs": [
    {
     "name": "stderr",
     "output_type": "stream",
     "text": [
      "'xgboost' is not recognized as an internal or external command,\n",
      "operable program or batch file.\n"
     ]
    }
   ],
   "source": [
    "!xgboost"
   ]
  },
  {
   "cell_type": "code",
   "execution_count": 56,
   "id": "691cf651",
   "metadata": {},
   "outputs": [
    {
     "ename": "ModuleNotFoundError",
     "evalue": "No module named 'xgboost'",
     "output_type": "error",
     "traceback": [
      "\u001b[1;31m---------------------------------------------------------------------------\u001b[0m",
      "\u001b[1;31mModuleNotFoundError\u001b[0m                       Traceback (most recent call last)",
      "Cell \u001b[1;32mIn[56], line 1\u001b[0m\n\u001b[1;32m----> 1\u001b[0m \u001b[38;5;28;01mimport\u001b[39;00m \u001b[38;5;21;01mxgboost\u001b[39;00m \u001b[38;5;28;01mas\u001b[39;00m \u001b[38;5;21;01mxgb\u001b[39;00m\n\u001b[0;32m      2\u001b[0m \u001b[38;5;66;03m# The DMatrix allows for the XGBoost model to train faster as the DMatrix is optimised for the model. \u001b[39;00m\n\u001b[0;32m      3\u001b[0m features \u001b[38;5;241m=\u001b[39m dv\u001b[38;5;241m.\u001b[39mget_feature_names()\n",
      "\u001b[1;31mModuleNotFoundError\u001b[0m: No module named 'xgboost'"
     ]
    }
   ],
   "source": [
    "import xgboost as xgb\n",
    "# The DMatrix allows for the XGBoost model to train faster as the DMatrix is optimised for the model. \n",
    "features = dv.get_feature_names()\n",
    "dtrain = xgb.DMatrix(X_train, label=Y_train, feature_names=features)\n",
    "dval = xgb.DMatrix(X_val, label=Y_val, feature_names=features)"
   ]
  },
  {
   "cell_type": "code",
   "execution_count": null,
   "id": "37940dcd",
   "metadata": {},
   "outputs": [],
   "source": [
    "# We can store the parameters of the XGBoost model in a dictionary, and use that in our model \n",
    "xgb_params = {\n",
    "    'eta': 0.3, \n",
    "    'max_depth': 6,\n",
    "    'min_child_weight': 1,\n",
    "    'objective': 'reg:squarederror',\n",
    "    'nthread': 8,\n",
    "    'seed': 1,\n",
    "    'verbosity': 1,\n",
    "}\n",
    "model = xgb.train(xgb_params, dtrain, num_boost_round=10)"
   ]
  },
  {
   "cell_type": "code",
   "execution_count": null,
   "id": "f88ad0a5",
   "metadata": {},
   "outputs": [],
   "source": [
    "y_pred = model.predict(dval)\n",
    "roc_auc_score(Y_val, Y_pred)"
   ]
  },
  {
   "cell_type": "code",
   "execution_count": null,
   "id": "4fa1754f",
   "metadata": {},
   "outputs": [],
   "source": [
    "# This is to setup evaluation, which is used to produce AUC \n",
    "watchlist = [(dtrain, 'train'), (dval, 'val')]\n",
    "%%capture output\n",
    "#We use this to capture what is printed out when we train the XGBoost model. \n",
    "\n",
    "xgb_params = {\n",
    "    'eta': 0.1, \n",
    "    'max_depth': 6,\n",
    "    'min_child_weight': 1,\n",
    "    \n",
    "    'objective': 'binary:logistic',\n",
    "    'eval_metric': 'auc',\n",
    "\n",
    "    'nthread': 8,\n",
    "    'seed': 1,\n",
    "    'verbosity': 1,\n",
    "}\n",
    "\n",
    "model = xgb.train(xgb_params, dtrain, num_boost_round=200,\n",
    "                  verbose_eval=5,\n",
    "                  evals=watchlist)\n",
    "y_pred = model.predict(dval)\n",
    "roc_auc_score(Y_val, Y_pred)"
   ]
  },
  {
   "cell_type": "code",
   "execution_count": null,
   "id": "cb952c20",
   "metadata": {},
   "outputs": [],
   "source": [
    "# This is to setup evaluation, which is used to produce AUC \n",
    "watchlist = [(dtrain, 'train'), (dval, 'val')]\n",
    "%%capture output"
   ]
  }
 ],
 "metadata": {
  "kernelspec": {
   "display_name": "Python 3 (ipykernel)",
   "language": "python",
   "name": "python3"
  },
  "language_info": {
   "codemirror_mode": {
    "name": "ipython",
    "version": 3
   },
   "file_extension": ".py",
   "mimetype": "text/x-python",
   "name": "python",
   "nbconvert_exporter": "python",
   "pygments_lexer": "ipython3",
   "version": "3.11.5"
  }
 },
 "nbformat": 4,
 "nbformat_minor": 5
}
